{
 "cells": [
  {
   "cell_type": "raw",
   "id": "133c47bd",
   "metadata": {},
   "source": [
    "🔹 Step 1: Install Required Libraries"
   ]
  },
  {
   "cell_type": "code",
   "execution_count": 22,
   "id": "9dc43b7d",
   "metadata": {},
   "outputs": [
    {
     "name": "stdout",
     "output_type": "stream",
     "text": [
      "Requirement already satisfied: PyPDF2 in /opt/anaconda3/lib/python3.11/site-packages (3.0.1)\r\n"
     ]
    }
   ],
   "source": [
    "!pip install PyPDF2\n"
   ]
  },
  {
   "cell_type": "raw",
   "id": "b6359b01",
   "metadata": {},
   "source": [
    " 🔹Step 2: Extract Text from PDF"
   ]
  },
  {
   "cell_type": "code",
   "execution_count": 23,
   "id": "9a9ba35b",
   "metadata": {},
   "outputs": [
    {
     "data": {
      "text/plain": [
       "'Data Structures and\\nAlgorithms in Python\\nMichael T. Goodrich\\nDepartment of Computer Science\\nUniversity of California, Irvine\\nRoberto Tamassia\\nDepartment of Computer Science\\nBrown University\\nMichael H. Goldwasser\\nDepartment of Mathematics and Computer Science\\nSaint Louis University\\n\\nVP & PUBLISHER Don Fowley\\nEXECUTIVE EDITOR Beth Lang Golub\\nEDITORIAL PROGRAM ASSISTANT Katherine WillisMARKETING MANAGER Christopher RuelDESIGNER Kenji NgiengSENIOR PRODUCTION MANAGER Janis SooASSOCIATE PRODUCTION MANAGER Joyce Poh\\nThis book was set in L aTEX by the authors. Printed and bound by Courier Westford.\\nThe cover was printed by Courier Westford.\\nThis book is printed on acid free paper. Founded in 1807, John Wiley & Sons, Inc. has been a valued source of knowledge and understanding for \\nmore than 200 years, helping people around the world meet their needs and fulﬁ  ll their aspirations. Our company is built on a foundation of principles that include responsibility to the communities we serve and whe'"
      ]
     },
     "execution_count": 23,
     "metadata": {},
     "output_type": "execute_result"
    }
   ],
   "source": [
    "from PyPDF2 import PdfReader\n",
    "\n",
    "# Path to the uploaded PDF\n",
    "pdf_path = \"Data Structures and Algorithms in Python.pdf\"\n",
    "\n",
    "# Extract text from the PDF\n",
    "reader = PdfReader(pdf_path)\n",
    "text = \"\\n\".join([page.extract_text() for page in reader.pages if page.extract_text()])\n",
    "\n",
    "# Previewing the first 1000 characters to check extraction quality\n",
    "text[:1000]\n"
   ]
  },
  {
   "cell_type": "raw",
   "id": "ae7ceed6",
   "metadata": {},
   "source": [
    "🔹 Step 3: Clean and Preprocess Text"
   ]
  },
  {
   "cell_type": "code",
   "execution_count": 5,
   "id": "2397d10a",
   "metadata": {},
   "outputs": [
    {
     "data": {
      "text/plain": [
       "'Data Structures and Algorithms in Python Michael T. Goodrich Department of Computer Science University of California, Irvine Roberto Tamassia Department of Computer Science Brown University Michael H. Goldwasser Department of Mathematics and Computer Science Saint Louis University VP & PUBLISHER Don Fowley EXECUTIVE EDITOR Beth Lang Golub EDITORIAL PROGRAM ASSISTANT Katherine WillisMARKETING MANAGER Christopher RuelDESIGNER Kenji NgiengSENIOR PRODUCTION MANAGER Janis SooASSOCIATE PRODUCTION MANAGER Joyce Poh This book was set in L aTEX by the authors. Printed and bound by Courier Westford. The cover was printed by Courier Westford. This book is printed on acid free paper. Founded in 1807, John Wiley & Sons, Inc. has been a valued source of knowledge and understanding for more than 200 years, helping people around the world meet their needs and ful ll their aspirations. Our company is built on a foundation of principles that include responsibility to the communities we serve and where we live and work. In 2008, we launched a Corporate Citizenship Initiative, a global effort to address the environmental, social, economic, and ethical challenges we face in our business. Among the issues we are addressing are carbon impact, paper speci cations and procurement, ethical conduct within our business and among our vendors, and community and charitable support. For more information, please visit our website: www.wiley.com/go/citizenship. Copyright 2013 John Wiley & Sons, Inc. All rights reserved. No part of this publication may be reproduced, stored in a retrieval system or transmitted in any form or by any means, electronic, mechanical, photocopying, recording, scanning or otherwise, except as permitted under Sections 107 or 108 of the 1976 United States Copyright Act, without either the prior written permission of the Publisher, or authorization through payment of the appropriate per-copy fee to the Copyright Clearance Center, Inc. 222 Rosewood Drive, Danvers, MA 01923, website www.copyright.com. Requests to the Publisher for permission should be addressed to the Permissions Department, John Wiley & Sons, Inc., 111 River Street, Hoboken, NJ 07030-5774, (201)748-6011, fax (201)748-6008, website http://www.wiley.com/go/permissions. Evaluation copies are provided to quali ed academics and professionals for review purposes only, for use in their courses during the next academic year. These copies are licensed and may not be sold or transferred to a third party. Upon completion of the review period, please return the evaluation copy to Wiley. Return instructions and a free of charge return mailing label are available at www.wiley.com/go/returnlabel. If you have chosen to adopt this textbook for use in your course, please accept this book as your complimentary desk copy. Outside of the United States, please contact your local sales representative. Printed in the United States of America10 9 8 7 6 5 4 3 2 1 To Karen, Paul, Anna, and Jack Michael T. Goodrich To Isabel Roberto Tamassia To Susan, Calista, and Maya Michael H. Goldwasser Preface The design and analysis of ef cient data structures has long been recognized as a vital subject in computing and is part of the core curriculum of computer scienceand computer engineering undergraduate degrees.'"
      ]
     },
     "execution_count": 5,
     "metadata": {},
     "output_type": "execute_result"
    }
   ],
   "source": [
    "import re\n",
    "\n",
    "# Function to clean extracted text\n",
    "def clean_text(text):\n",
    "    # Remove extra spaces, new lines, and special characters\n",
    "    text = re.sub(r'\\n+', '\\n', text)  # Normalize multiple new lines\n",
    "    text = re.sub(r'[^\\x00-\\x7F]+', ' ', text)  # Remove non-ASCII characters\n",
    "    text = re.sub(r'\\s+', ' ', text)  # Remove extra spaces\n",
    "    return text.strip()\n",
    "\n",
    "# Clean the extracted text\n",
    "cleaned_text = clean_text(text)\n",
    "\n",
    "# Splitting the text into manageable chunks (500 words per chunk for efficient retrieval)\n",
    "words = cleaned_text.split()\n",
    "chunk_size = 500  # Approximate word count per chunk\n",
    "chunks = [\" \".join(words[i:i + chunk_size]) for i in range(0, len(words), chunk_size)]\n",
    "\n",
    "# Display the first chunk as a preview\n",
    "chunks[0]\n"
   ]
  },
  {
   "cell_type": "code",
   "execution_count": 24,
   "id": "08226cf5",
   "metadata": {},
   "outputs": [
    {
     "name": "stdout",
     "output_type": "stream",
     "text": [
      "✅ PDF text extracted and saved to 'book_text.txt'\n"
     ]
    }
   ],
   "source": [
    "import PyPDF2\n",
    "\n",
    "# Open the PDF file\n",
    "pdf_path = \"Data Structures and Algorithms in Python.pdf\"\n",
    "\n",
    "with open(pdf_path, \"rb\") as file:\n",
    "    reader = PyPDF2.PdfReader(file)\n",
    "    text = \"\\n\".join([page.extract_text() for page in reader.pages if page.extract_text()])\n",
    "\n",
    "# Save extracted text to a file\n",
    "with open(\"book_text.txt\", \"w\", encoding=\"utf-8\") as text_file:\n",
    "    text_file.write(text)\n",
    "\n",
    "print(\"✅ PDF text extracted and saved to 'book_text.txt'\")\n"
   ]
  },
  {
   "cell_type": "raw",
   "id": "498811b8",
   "metadata": {},
   "source": [
    "🔹 Step 4: Split Text into Chunks"
   ]
  },
  {
   "cell_type": "code",
   "execution_count": 17,
   "id": "03a36883",
   "metadata": {},
   "outputs": [
    {
     "name": "stdout",
     "output_type": "stream",
     "text": [
      "✅ Text has been split into chunks and saved as 'chunks.npy'\n"
     ]
    }
   ],
   "source": [
    "import numpy as np\n",
    "\n",
    "# Load the extracted text\n",
    "with open(\"book_text.txt\", \"r\", encoding=\"utf-8\") as file:\n",
    "    book_text = file.read()\n",
    "\n",
    "# Split text into chunks\n",
    "chunk_size = 500  # Adjust as needed\n",
    "words = book_text.split()\n",
    "chunks = [\" \".join(words[i:i + chunk_size]) for i in range(0, len(words), chunk_size)]\n",
    "\n",
    "# Save chunks for retrieval\n",
    "np.save(\"chunks.npy\", np.array(chunks))\n",
    "\n",
    "print(\"✅ Text has been split into chunks and saved as 'chunks.npy'\")\n"
   ]
  },
  {
   "cell_type": "raw",
   "id": "284a2403",
   "metadata": {},
   "source": [
    "🔹 Step 5: Create the TF-IDF Model"
   ]
  },
  {
   "cell_type": "code",
   "execution_count": 18,
   "id": "e8b6e18f",
   "metadata": {},
   "outputs": [
    {
     "name": "stdout",
     "output_type": "stream",
     "text": [
      "✅ TF-IDF model is now ready for question answering!\n"
     ]
    }
   ],
   "source": [
    "from sklearn.feature_extraction.text import TfidfVectorizer\n",
    "import numpy as np\n",
    "import joblib\n",
    "\n",
    "# Load the saved text chunks\n",
    "chunks = np.load(\"chunks.npy\", allow_pickle=True)\n",
    "\n",
    "# Create a TF-IDF Vectorizer\n",
    "vectorizer = TfidfVectorizer(stop_words='english', max_features=5000)\n",
    "\n",
    "# Fit and transform the text chunks into TF-IDF vectors\n",
    "tfidf_matrix = vectorizer.fit_transform(chunks)\n",
    "\n",
    "# Save the vectorized model and text chunks for retrieval\n",
    "joblib.dump(vectorizer, \"vectorizer.pkl\")\n",
    "np.save(\"tfidf_matrix.npy\", tfidf_matrix.toarray())\n",
    "\n",
    "print(\"✅ TF-IDF model is now ready for question answering!\")\n"
   ]
  },
  {
   "cell_type": "raw",
   "id": "1e34f25c",
   "metadata": {},
   "source": [
    "🔹 Step 6: Implement the Question Answering System"
   ]
  },
  {
   "cell_type": "code",
   "execution_count": 1,
   "id": "6e4905e1",
   "metadata": {},
   "outputs": [
    {
     "name": "stdout",
     "output_type": "stream",
     "text": [
      "💬 Type your questions below. Type 'exit' to stop.\n",
      "\n",
      "Ask a question: Explain recursion\n",
      "\n",
      "📖 Answer from the book:\n",
      "\n",
      "recursive call may start two others, we call this a binary recursion . •If a recursive call may start three or more others, this is multiple recursion . 4.4.1 Linear Recursion If a recursive function is designed so that each invocation of the body makes at most one new recursive call, this is know as linear recursion . Of the recursions we have seen so far, the implementation of the factorial function (Section 4.1.1) andthegood ﬁbonacci function (Section 4.3) are clear examples of linear recursion. More interestingly, the binary search algorithm (Section 4.1.3) is also an example oflinear recursion , despite the “binary” terminology in the name. The code for binary search (Code Fragment 4.3) includes a case analysis with two branches that lead to recursive calls, but only one of those calls can be reached during a particularexecution of the body. A consequence of the deﬁnition of linear recursion is that any recursion trace will appear as a single sequence of calls, as we originally portrayed for the factorialfunction in Figure 4.1 of Section 4.1.1. Note that the linear recursion terminol- ogy reﬂects the structure of the recursion trace, not the asymptotic analysis of the running time; for example, we have seen that binary search runs in O(logn)time. Summing the Elements of a Sequence Recursively Linear recursion can be a useful tool for processing a data sequence, such as a Python list. Suppose, for example, that we want to compute the sum of a sequence,S,o fnintegers. We can solve this summation problem using linear recursion by observing that the sum of all nintegers in Sis trivially 0, if n=0, and otherwise that it is the sum of the ﬁrst n−1i n t e g e r si n Splus the last element in S.( S e e Figure 4.9.) 4362893285172835 701234 6789 1 0 1 1 1 2 1 3 1 4 1 5 Figure 4.9: Computing the sum of a sequence recursively, by adding the last number to the sum of the ﬁrst n−1. 170 Chapter 4. Recursion A recursive algorithm for computing the sum of a sequence of numbers based on this intuition is implemented in Code Fragment 4.9. 1deflinear sum(S, n): 2”””Return the sum of the ﬁrst n numbers of sequence S.””” 3ifn= =0 : 4 return 0 5else: 6 return linear sum(S, n −1) + S[n −1] Code Fragment 4.9: Summing the elements of a sequence using linear recursion. A recursion trace of the linear sum function for a small example is given in Figure 4.10. For an input of size n,t h elinear sum algorithm makes n+1 function calls. Hence, it will take O(n)time, because it spends a constant amount of time performing the nonrecursive part of each call. Moreover, we can also see that the memory space used by the algorithm (in addition to the sequence S)i sa l s o O(n),a s we use a constant amount of memory space for each of the n+1 activation records in the trace at the\n",
      "\n",
      "--------------------------------------------------------------------------------\n",
      "\n",
      "Ask a question: What is binary search?\n",
      "\n",
      "📖 Answer from the book:\n",
      "\n",
      "Code Fragment 8.15, and an example of an inordertraversal is portrayed in Figure 8.18. Algorithm inorder(p) : ifphas a left child lcthen inorder(lc) {recursively traverse the left subtree of p} perform the “visit” action for position p ifphas a right child rcthen inorder(rc) {recursively traverse the right subtree of p} Code Fragment 8.15: Algorithm inorder for performing an inorder traversal of a subtree rooted at position pof a binary tree. 3 1 9 5 4 7+ 3 2 − 3 −× + × 6/ +− Figure 8.18: Inorder traversal of a binary tree. The inorder traversal algorithm has several important applications. When using a binary tree to represent an arithmetic expression, as in Figure 8.18, the inorder traversal visits positions in a consistent order with the standard representation of the expression, as in 3 +1×3/9−5+2...(albeit without parentheses). 332 Chapter 8. Trees Binary Search Trees An important application of the inorder traversal algorithm arises when we store an ordered sequence of elements in a binary tree, deﬁning a structure we call a binary search tree .L e t Sbe a set whose unique elements have an order relation. For example, Scould be a set of integers. A binary search tree for Sis a binary tree T such that, for each position pofT: •Position pstores an element of S, denoted as e(p). •Elements stored in the left subtree of p(if any) are less than e(p). •Elements stored in the right subtree of p(if any) are greater than e(p). An example of a binary search tree is shown in Figure 8.19. The above properties assure that an inorder traversal of a binary search tree Tvisits the elements in nondecreasing order. 362531 42 1262 7558 90 Figure 8.19: A binary search tree storing integers. The solid path is traversed when searching (successfully) for 36. The dashed path is traversed when searching (un- successfully) for 70. We can use a binary search tree Tfor set Sto ﬁnd whether a given search value vis in S, by traversing a path down the tree T, starting at the root. At each internal position pencountered, we compare our search value vwith the element e(p)stored at p.I f v<e(p), then the search continues in the left subtree of p. Ifv=e(p), then the search terminates successfully. If v>e(p), then the search continues in the right subtree of p. Finally, if we reach an empty subtree, the search terminates unsuccessfully. In other words, a binary search tree can be viewed as abinary decision tree (recall Example 8.6), where the question asked at each internalnode is whether the element at that node is less than, equal to, or larger than the element being searched for. We illustrate several examples of the search operation in Figure 8.19. Note that the running time of searching in a binary search tree Tis proportional to the height of T. Recall from Proposition 8.8 that the height of a binary tree with nnodes can be as small as log (n+1)−1 or as large as n−1. Thus, binary\n",
      "\n",
      "--------------------------------------------------------------------------------\n",
      "\n",
      "Ask a question: exit\n",
      "🚪 Exiting the Q&A system. Have a great day! 😊\n"
     ]
    }
   ],
   "source": [
    "import numpy as np\n",
    "import joblib\n",
    "from sklearn.metrics.pairwise import cosine_similarity\n",
    "\n",
    "# Load the saved TF-IDF model and text chunks\n",
    "vectorizer = joblib.load(\"vectorizer.pkl\")\n",
    "tfidf_matrix = np.load(\"tfidf_matrix.npy\")\n",
    "chunks = np.load(\"chunks.npy\", allow_pickle=True)\n",
    "\n",
    "print(\"💬 Type your questions below. Type 'exit' to stop.\\n\")\n",
    "\n",
    "while True:\n",
    "    # Ask a question\n",
    "    question = input(\"Ask a question: \")\n",
    "\n",
    "    # Stop if the user types \"exit\"\n",
    "    if question.lower() == \"exit\":\n",
    "        print(\"🚪 Exiting the Q&A system. Have a great day! 😊\")\n",
    "        break\n",
    "\n",
    "    # Convert the question into a TF-IDF vector\n",
    "    question_vector = vectorizer.transform([question])\n",
    "\n",
    "    # Compute cosine similarity between the question and book chunks\n",
    "    similarities = cosine_similarity(question_vector, tfidf_matrix)\n",
    "\n",
    "    # Find the most relevant chunk\n",
    "    best_match_idx = np.argmax(similarities)\n",
    "\n",
    "    # Retrieve the most relevant text from the book\n",
    "    best_answer = chunks[best_match_idx]\n",
    "\n",
    "    print(\"\\n📖 Answer from the book:\\n\")\n",
    "    print(best_answer)\n",
    "    print(\"\\n\" + \"-\"*80 + \"\\n\")\n"
   ]
  },
  {
   "cell_type": "code",
   "execution_count": null,
   "id": "5442e6aa",
   "metadata": {},
   "outputs": [],
   "source": []
  }
 ],
 "metadata": {
  "kernelspec": {
   "display_name": "Python 3 (ipykernel)",
   "language": "python",
   "name": "python3"
  },
  "language_info": {
   "codemirror_mode": {
    "name": "ipython",
    "version": 3
   },
   "file_extension": ".py",
   "mimetype": "text/x-python",
   "name": "python",
   "nbconvert_exporter": "python",
   "pygments_lexer": "ipython3",
   "version": "3.11.7"
  }
 },
 "nbformat": 4,
 "nbformat_minor": 5
}
